{
 "cells": [
  {
   "cell_type": "markdown",
   "metadata": {},
   "source": [
    "One-dimensional Schrodinger equation is a linear partial differential equation that describes the quantum behaviour of a particle moving in one-dimension that governs by the potential, V(x). The equation for the one-dimensional Schrodinger equation in term of ψ\"(x) is given by:\n",
    "                        \n",
    "                        𝜓\"(𝑥) + 2m/ℏ**2 * [E - V(x)] * 𝜓(x) = 0 \n",
    "\n",
    "where V(x) is:\n",
    "             \n",
    "             V(x) = ℏ**2/2m * 𝛼**2 * 𝜆 * (𝜆-1) * [1/2 - 1/cosh(𝛼𝑥)**2]\n",
    "\n",
    "and En is:\n",
    "               \n",
    "               En = ℏ**2/2m * 𝛼**2 * [(𝜆 * (𝜆-1))/2 - (𝜆 - 1 - n)**2]\n"
   ]
  },
  {
   "cell_type": "code",
   "execution_count": null,
   "metadata": {},
   "outputs": [],
   "source": [
    "import numpy as np\n",
    "import matplotlib.pyplot as plt\n",
    "from scipy.optimize import root_scalar"
   ]
  },
  {
   "cell_type": "code",
   "execution_count": null,
   "metadata": {},
   "outputs": [],
   "source": [
    "#Define parameter\n",
    "alpha = 1\n",
    "lam = 4\n",
    "hbar = 1\n",
    "m = 1"
   ]
  },
  {
   "cell_type": "code",
   "execution_count": null,
   "metadata": {},
   "outputs": [],
   "source": [
    "#Define potential of the well in term of x\n",
    "def potential(x):\n",
    "    return alpha**2 * lam * (lam - 1) * (0.5 - 1 / np.cosh(alpha * x)**2)"
   ]
  },
  {
   "cell_type": "markdown",
   "metadata": {},
   "source": [
    "The Numerov method is used to solve the 𝜓(x) iteratively. From Schrodinger equation shown above, it becomes:\n",
    "                                   \n",
    "                                    𝜓\"(𝑥) = -k(x)𝜓(x)\n",
    "\n",
    "By using second-order Taylor expansion for 𝜓(x), the Numerov formula gives:\n",
    "\n",
    "𝜓[i+1] = ((2 - (5*dx**2)/6 * k[i]) * 𝜓[i] - (1 - (dx**2)/12 * k[i-1]) * 𝜓[i-1]) / (1 + dx**2/12 * k[i+1])\n",
    "\n",
    "Initial condition of 𝜓(x0) = psi0 and 𝜓(x1) = psi1 is used.\n"
   ]
  },
  {
   "cell_type": "code",
   "execution_count": null,
   "metadata": {},
   "outputs": [],
   "source": [
    "def numerov(x, psi0, psi1, E, V):\n",
    "    dx = x[1] - x[0]     # Step size\n",
    "    psi = np.zeros_like(x)     # Creating array of 0\n",
    "    psi[0], psi[1] = psi0, psi1     # Initial values of the wavefunction at the first two grid points\n",
    "\n",
    "    for i in range(1, len(x) - 1):     # loops through the entire points of the grip ignoring the first and last point\n",
    "        k1 = 2 * (E - V(x[i-1]))     # past iteration\n",
    "        k2 = 2 * (E - V(x[i]))     # current iteration\n",
    "        k3 = 2 * (E - V(x[i+1]))     # future iteration\n",
    "        psi[i+1] = (2 * (1 - 5 * dx**2 / 12 * k2) * psi[i] - \n",
    "                    (1 + dx**2 / 12 * k1) * psi[i-1]) / (1 + dx**2 / 12 * k3)     # Numerov equation for iteration\n",
    "    return psi     # The computed wavefunction over the entire grid"
   ]
  },
  {
   "cell_type": "markdown",
   "metadata": {},
   "source": [
    "This code helps to match the computed value from the left boundary and from the right boundary. In Schrodinger equation, the wave function must be continuous at every point including the boundary. To ensure the wave function is smooth, we computed the slopes of the 𝜓(x) from the left and right side. If the function are correctly matched, the difference between both of the wave function should give 0."
   ]
  },
  {
   "cell_type": "code",
   "execution_count": null,
   "metadata": {},
   "outputs": [],
   "source": [
    "def matching_function(E, x, V):\n",
    "    psiL = numerov(x, 0, 1e-3, E, V)     # solving numerov from the left boundary\n",
    "    psiR = numerov(x[::-1], 0, 1e-3, E, V)[::-1]     # solving numerov from right boundary, x[::-1] is to reverse the calculation so that the wave funtion will move inward from the right boundary\n",
    "                                                     # then it is reversed back to match the grid\n",
    "    midpoint = len(x) // 2     # assuming the grid is symmetry from negative and positive side, this function will calculate the midpoint of the grid\n",
    "    if psiL[midpoint] == 0 or psiR[midpoint] == 0:     # to avoid division by 0\n",
    "        return np.inf\n",
    "    return (psiL[midpoint] / psiL[midpoint - 1]) - (psiR[midpoint] / psiR[midpoint - 1])     # comparing the slopes from the left and right region"
   ]
  },
  {
   "cell_type": "code",
   "execution_count": null,
   "metadata": {},
   "outputs": [],
   "source": [
    "def find_eigenvalues(x, V, n_states):\n",
    "    eigenvalues = []     # storing computed eignevalues\n",
    "    for n in range(n_states):\n",
    "        E_min, E_max = n + 0.1, n + 1.5\n",
    "        try:\n",
    "            result = root_scalar(matching_function, args=(x, V), bracket=(E_min, E_max))\n",
    "            if result.converged:\n",
    "                eigenvalues.append(result.root)\n",
    "        except ValueError:\n",
    "            print(f\"Warning: Unable to find eigenvalue for n = {n}\")\n",
    "    return eigenvalues"
   ]
  },
  {
   "cell_type": "code",
   "execution_count": null,
   "metadata": {},
   "outputs": [],
   "source": [
    "x = np.linspace(-5, 5, 1000)  \n",
    "V = lambda x: potential(x)     \n",
    "n_states = 3     "
   ]
  },
  {
   "cell_type": "code",
   "execution_count": null,
   "metadata": {},
   "outputs": [],
   "source": [
    "plt.figure(figsize=(10, 6))\n",
    "for E in eigenvalues:\n",
    "    psi = numerov(x, 0, 1e-3, E, V)\n",
    "    psi /= np.sqrt(np.sum(psi**2) * (x[1] - x[0]))  \n",
    "    plt.plot(x, psi, label=f\"E = {E:.4f}\")"
   ]
  },
  {
   "cell_type": "code",
   "execution_count": null,
   "metadata": {},
   "outputs": [],
   "source": [
    "plt.plot(x, potential(x), label=\"Potential V(x)\", linestyle=\"-\", color=\"green\")\n",
    "plt.xlabel(\"x\")\n",
    "plt.ylabel(\"Psi(x) and V(x)\")\n",
    "plt.title(\"Wavefunctions and Potential\")\n",
    "plt.legend()\n",
    "plt.grid()\n",
    "plt.show()\n",
    "\n",
    "print(\"Eigenvalues (E):\", eigenvalues)"
   ]
  }
 ],
 "metadata": {
  "kernelspec": {
   "display_name": "new",
   "language": "python",
   "name": "python3"
  },
  "language_info": {
   "codemirror_mode": {
    "name": "ipython",
    "version": 3
   },
   "file_extension": ".py",
   "mimetype": "text/x-python",
   "name": "python",
   "nbconvert_exporter": "python",
   "pygments_lexer": "ipython3",
   "version": "3.11.10"
  }
 },
 "nbformat": 4,
 "nbformat_minor": 2
}
